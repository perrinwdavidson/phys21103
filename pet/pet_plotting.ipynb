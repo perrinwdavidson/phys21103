{
 "cells": [
  {
   "cell_type": "markdown",
   "metadata": {},
   "source": [
    "# Plotting Your Data\n",
    "----\n",
    "To start out, you'll want to load your data from a file using numpy.  Make sure you also get the angle step right here, or else things could turn out really strange."
   ]
  },
  {
   "cell_type": "code",
   "execution_count": null,
   "metadata": {},
   "outputs": [],
   "source": [
    "import numpy as np\n",
    "data_filename = \"Sinogram_Nov05_Time_20_58_15.csv\"\n",
    "using_colab = False\n",
    "    # Change to True if you are running Juptyer via Colab"
   ]
  },
  {
   "cell_type": "code",
   "execution_count": null,
   "metadata": {},
   "outputs": [],
   "source": [
    "if using_colab:\n",
    "    from google.colab import files\n",
    "    uploaded = files.upload()\n",
    "    data_filename = next(iter(uploaded.keys()))\n",
    "    # This last line is a trick that will automatically pull the filename from what you uploaded."
   ]
  },
  {
   "cell_type": "code",
   "execution_count": null,
   "metadata": {},
   "outputs": [],
   "source": [
    "data = np.loadtxt(data_filename,delimiter=\",\")   \n",
    "angles = []\n",
    "angle_step = 45\n",
    "for i in range(len(data)):\n",
    "    angles.append(i*angle_step)\n",
    "print(angles)"
   ]
  },
  {
   "cell_type": "markdown",
   "metadata": {},
   "source": [
    "Now that that's loaded, we'll us matplotlib's `imshow` command to display our data as a 2d image with intensity coded as color.  \n",
    "\n",
    "`extent` here is used to define the `x` and `y` axis start and end values\n",
    "\n",
    "`aspect=\"auto\"` makes the plot square instead of long & thin."
   ]
  },
  {
   "cell_type": "code",
   "execution_count": null,
   "metadata": {},
   "outputs": [],
   "source": [
    "from matplotlib import pyplot as plt\n",
    "%matplotlib notebook\n",
    "fig,ax = plt.subplots()\n",
    "start_dist = 0\n",
    "end_dist = 22\n",
    "start_angle = 0\n",
    "end_angle = angles[-1]  # This is the last angle in the array, no matter how many angles are in it.\n",
    "ax.imshow(data,extent=[start_dist,end_dist,end_angle,start_angle],aspect=\"auto\")\n",
    "ax.set_xlabel(\"Distance (cm)\")\n",
    "ax.set_ylabel(\"Angle (degrees)\")\n",
    "ax.set_title(\"Sinogram\");"
   ]
  },
  {
   "cell_type": "markdown",
   "metadata": {},
   "source": [
    "Now we have an inverse problem:  We know what the intensity of our source looks like as a function of distance and angle, but we want to know it in terms of x and y position.\n",
    "\n",
    "There are a number of ways we can go about doing this, but we'll start with the simplest first: projecting out our slices along the line of response for the detectors, rotating these projections by their associated angles, and then combining all these together to get a composite plot.\n",
    "\n",
    "To project out out slices, we'll use `np.outer` to do an outer product; this turns our 1d slices into 2d matricies.\n",
    "\n",
    "The doce below does this for each slice in our data, and plots the results for the first and second slices."
   ]
  },
  {
   "cell_type": "code",
   "execution_count": null,
   "metadata": {},
   "outputs": [],
   "source": [
    "from scipy import ndimage\n",
    "expand_vec = np.ones(data[0].size)  # this is used to get us a square matrix\n",
    "expanded_data = []\n",
    "for item in data:\n",
    "    expanded_data.append(np.outer(expand_vec,item))\n",
    "    \n",
    "fig, (ax,ay) = plt.subplots(2)\n",
    "ax.imshow(expanded_data[0])\n",
    "ay.imshow(expanded_data[1])"
   ]
  },
  {
   "cell_type": "markdown",
   "metadata": {},
   "source": [
    "Okay, we've made 2d representations of our data.  Now how do we rotate them?  Instead of writing code to do matrix rotation ourselves, we'll use scipy's `ndimage` library.  Unless you manually want to write a matrix rotation algorithm.  I'm not your boss, knock yourself out."
   ]
  },
  {
   "cell_type": "code",
   "execution_count": null,
   "metadata": {
    "scrolled": false
   },
   "outputs": [],
   "source": [
    "rotated_data = []\n",
    "for index, item in enumerate(expanded_data):\n",
    "    rotated_data.append(ndimage.rotate(item,angles[index],reshape=False,order=1)) # we want Numpy to keep our square, 2d matricies.\n",
    "    \n",
    "fig, (ax,ay) = plt.subplots(2)\n",
    "ax.imshow(rotated_data[0])\n",
    "ay.imshow(rotated_data[1])    "
   ]
  },
  {
   "cell_type": "markdown",
   "metadata": {},
   "source": [
    "The rotated part has some bad aliasing going on, but it more-or-less captures the results of our third scan.  We'll show how to reduce that a bit later, but for now let's start recombining data!\n",
    "\n",
    "To do this, we'll make a composite image by multiplying each of these expanded & rotated slices together.  Locations where we don't see many coincidences at any angle will end up with low counts, and locations with lots of coincidences at similar angles will end up with high counts.  It may be easier to see what this looks like, so let's start by recombining just the first and third slices.\n",
    "\n",
    "We'll also normalize the data by taking the `nth` root, where `n` is the number of slices we're using.  The units would end up being something insane if we didn't do this."
   ]
  },
  {
   "cell_type": "code",
   "execution_count": null,
   "metadata": {},
   "outputs": [],
   "source": [
    "composite = rotated_data[0] * rotated_data[1]\n",
    "normalized = np.power(composite,(1/2))\n",
    "\n",
    "fig, ax = plt.subplots()\n",
    "ax.imshow(normalized)"
   ]
  },
  {
   "cell_type": "markdown",
   "metadata": {},
   "source": [
    "You should now have some smears or blobs in your image instead of just straight lines.  Let's go ahead and go through the entire thing and see what we get."
   ]
  },
  {
   "cell_type": "code",
   "execution_count": null,
   "metadata": {},
   "outputs": [],
   "source": [
    "composite = np.ones_like(rotated_data[0]) # We need a matrix full of 1s to start out with, we can't multiply an empty matrix with anything.\n",
    "for item in rotated_data:\n",
    "    composite *= item\n",
    "normalized = np.power(composite,(1/len(rotated_data))) #\n",
    "\n",
    "fig, ax = plt.subplots()\n",
    "ax.imshow(normalized)"
   ]
  },
  {
   "cell_type": "markdown",
   "metadata": {},
   "source": [
    "While likely quite blurry, you should have something that now at least vaguely resembles a few point sources.  Congratulations, you've now got the basics down!"
   ]
  },
  {
   "cell_type": "markdown",
   "metadata": {},
   "source": [
    "# Alternate Plot Types\n",
    "----\n",
    "We can also make contour plots, showing regions of equal intensity."
   ]
  },
  {
   "cell_type": "code",
   "execution_count": null,
   "metadata": {},
   "outputs": [],
   "source": [
    "fig, ax = plt.subplots()\n",
    "\n",
    "x = np.linspace(0,22,len(normalized)) \n",
    "y = np.linspace(0,22,len(normalized))\n",
    "X, Y = np.meshgrid(x, y) # These set up a coordinate system for the contour plot\n",
    "\n",
    "num_lines = 6\n",
    "flipped = normalized[::-1] # This is Python sorcery that flips the data vertically so that it matches the other plots.\n",
    "\n",
    "p = ax.contour(X, Y, flipped,num_lines)\n",
    "ax.clabel(p, inline=True, fontsize=8) # This adds numbers to contours\n",
    "ax.set_aspect('equal')"
   ]
  },
  {
   "cell_type": "markdown",
   "metadata": {},
   "source": [
    "Another useful option is to make a fully 3d projection"
   ]
  },
  {
   "cell_type": "code",
   "execution_count": null,
   "metadata": {},
   "outputs": [],
   "source": [
    "fig = plt.figure()\n",
    "ax = fig.add_subplot(111, projection='3d')\n",
    "\n",
    "x = np.linspace(0,22,len(normalized)) \n",
    "y = np.linspace(0,22,len(normalized))\n",
    "X, Y = np.meshgrid(x, y) # These set up a coordinate system for the contour plot\n",
    "\n",
    "ax.plot_surface(X, Y, flipped,cmap='plasma') #color maps are not required\n",
    "ax.set_xlabel('x (cm)')\n",
    "ax.set_ylabel('y (cm)')\n",
    "ax.set_zlabel('coincidence intensity')\n",
    "ax.set_title('3D Projection Example');"
   ]
  },
  {
   "cell_type": "markdown",
   "metadata": {},
   "source": [
    "We can also do this for each of our slices, giving a 3d view of how our reconstruction step-by-step."
   ]
  },
  {
   "cell_type": "code",
   "execution_count": null,
   "metadata": {
    "scrolled": false
   },
   "outputs": [],
   "source": [
    "composite = np.ones_like(rotated_data[0]) \n",
    "for index, item in enumerate(rotated_data):\n",
    "    fig = plt.figure()\n",
    "    ax = fig.add_subplot(211, projection='3d')\n",
    "    ay = fig.add_subplot(212, projection='3d')\n",
    "    \n",
    "    x = np.linspace(0,22,len(item)) \n",
    "    y = np.linspace(0,22,len(item))\n",
    "    X, Y = np.meshgrid(x, y) # These set up a coordinate system for the contour plot\n",
    "    \n",
    "    ax.plot_surface(X, Y, item,cmap='plasma') #color maps are not required\n",
    "    composite *= item   \n",
    "    ay.plot_surface(X, Y, np.power(composite,(1/(index+1))),cmap='plasma') #color maps are not required\n",
    "    \n",
    "    ax.set_xlabel('x (cm)')\n",
    "    ax.set_ylabel('y (cm)')\n",
    "    ax.set_zlabel('coincidence intensity')\n",
    "    ax.set_title('3D Projection Example')\n",
    "    \n",
    "    ay.set_xlabel('x (cm)')\n",
    "    ay.set_ylabel('y (cm)')\n",
    "    ay.set_zlabel('coincidence intensity')\n",
    "    ay.set_title('3D Reconstruction')"
   ]
  },
  {
   "cell_type": "markdown",
   "metadata": {},
   "source": [
    "# Advanced Techniques\n",
    "----\n",
    "We can do a few things to improve our reconstruction technique here.  To start, let's see if we can do something about the jaggedness of the rotations.  We can do this by repeating values in the slices multiple times, so there's more space for interpolation.\n",
    "\n",
    "There are any number of ways to accomplish this, and probably some better than this, but this will get the job done."
   ]
  },
  {
   "cell_type": "code",
   "execution_count": null,
   "metadata": {},
   "outputs": [],
   "source": [
    "expansion_value = 2\n",
    "expanded_slice = [np.array([])]\n",
    "for index,slices in enumerate(data):\n",
    "    for element in slices:  # This goes through each slice one item at a time\n",
    "        repeat_values = np.full(expansion_value,element) # makex an x by 1 array full of one value\n",
    "        expanded_slice[index] = np.append(expanded_slice[index], repeat_values) # This tacks on the expanded bit on the end of our array\n",
    "    expanded_slice.append(np.array([])) # This adds a new empty array to the end of things\n",
    "expanded_slice.pop()    #We accidentally create an extra empty array, so this gets rid of it\n",
    "print(data[0])\n",
    "print(expanded_slice[0])"
   ]
  },
  {
   "cell_type": "markdown",
   "metadata": {},
   "source": [
    "The expanded_slice here is just the same values, but doubled up in the array.  Now we'll do our matrix expansion and rotation, and see what the difference is."
   ]
  },
  {
   "cell_type": "code",
   "execution_count": null,
   "metadata": {
    "scrolled": false
   },
   "outputs": [],
   "source": [
    "expand_vec = np.ones(expanded_slice[0].size)\n",
    "expanded_rotation = []\n",
    "for index, item in enumerate(expanded_slice):\n",
    "    expanded_rotation.append(ndimage.rotate(np.outer(expand_vec,item),angles[index],reshape=False))\n",
    "\n",
    "expanded_composite = np.ones_like(expanded_rotation[0])\n",
    "for item in expanded_rotation:\n",
    "    expanded_composite *= item\n",
    "expanded_normalized = np.power(expanded_composite,(1/len(data)))\n",
    "\n",
    "fig, (ax,ay) = plt.subplots(2)\n",
    "ax.imshow(normalized)\n",
    "ax.set_title(\"Multiplication combination: No smoothing\")    \n",
    "ay.imshow(expanded_normalized)\n",
    "ay.set_title(\"Multiplication combination: 2x smoothing\")\n",
    "fig.tight_layout()"
   ]
  },
  {
   "cell_type": "markdown",
   "metadata": {},
   "source": [
    "This does a lot to get rid of some of the jaggedness of the reconstruction, but there are also likely some shadows caused by us having multiple sources here.\n",
    "\n",
    "We can also use a professional reconstruction technique: a [radon transform](https://en.wikipedia.org/wiki/Radon_transform).  At heart this technique uses a Fourier transform of slices, recombines these in a polar format, and then does an inverse Fourier transform.  You can try and work this out for yourself, but we can also use a package from `skimage` to do this for us with our data.  Since we're starting with slice/angle data, we'll be doing an inverse transformation.\n",
    "\n",
    "You'll need to install the package in Anaconda for this to work."
   ]
  },
  {
   "cell_type": "code",
   "execution_count": null,
   "metadata": {},
   "outputs": [],
   "source": [
    "from skimage.transform import iradon\n",
    "reconstruction = iradon(np.transpose(np.array(data)),theta=np.array(angles)) \n",
    "# the transpose makes it line up with our other method"
   ]
  },
  {
   "cell_type": "code",
   "execution_count": null,
   "metadata": {
    "scrolled": false
   },
   "outputs": [],
   "source": [
    "fig, ax = plt.subplots()\n",
    "ax.imshow(reconstruction)\n",
    "ax.set_title(\"Inverse radon transform data\");"
   ]
  },
  {
   "cell_type": "markdown",
   "metadata": {},
   "source": [
    "As expected the results are similar, but there are some differences in the intensities."
   ]
  },
  {
   "cell_type": "code",
   "execution_count": null,
   "metadata": {},
   "outputs": [],
   "source": []
  }
 ],
 "metadata": {
  "kernelspec": {
   "display_name": "Python 3 (ipykernel)",
   "language": "python",
   "name": "python3"
  },
  "language_info": {
   "codemirror_mode": {
    "name": "ipython",
    "version": 3
   },
   "file_extension": ".py",
   "mimetype": "text/x-python",
   "name": "python",
   "nbconvert_exporter": "python",
   "pygments_lexer": "ipython3",
   "version": "3.8.8"
  }
 },
 "nbformat": 4,
 "nbformat_minor": 2
}
